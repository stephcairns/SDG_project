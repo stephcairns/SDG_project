{
  "nbformat": 4,
  "nbformat_minor": 0,
  "metadata": {
    "colab": {
      "name": "SDG 13 search queries",
      "provenance": []
    },
    "kernelspec": {
      "name": "python3",
      "display_name": "Python 3"
    },
    "language_info": {
      "name": "python"
    }
  },
  "cells": [
    {
      "cell_type": "code",
      "metadata": {
        "id": "0101Ejj_WVfW"
      },
      "source": [
        "import re\n",
        "import pandas as pd"
      ],
      "execution_count": 1,
      "outputs": []
    },
    {
      "cell_type": "code",
      "metadata": {
        "id": "QU5sh6z8YINV"
      },
      "source": [
        "# Determines whether two words appear within n words of each other\n",
        "def near(string, word1, word2, dist):\n",
        "  p = re.compile(f'{word1}\\\\s(\\\\w+[\\\\s,.]*){{0,{dist-2}}}{word2}', re.IGNORECASE)\n",
        "  p1 = re.compile(f'{word2}\\\\s(\\\\w+[\\\\s,.]*){{0,{dist-2}}}{word1}', re.IGNORECASE)\n",
        "  return p.search(string) is not None or p1.search(string) is not None"
      ],
      "execution_count": 2,
      "outputs": []
    },
    {
      "cell_type": "code",
      "metadata": {
        "id": "VtUxPCsJYUIZ"
      },
      "source": [
        "def apply_queries(str):\n",
        "\n",
        "  # Step 1: single terms\n",
        "  singles = [\"climate action\\w*\",\"climate effect\\w*\", \"climate model\\w*\", \"climate variability\",\n",
        "             \"climate variation\\w*\", \"climate-driven\", \"climatology\", \"eco-innovation\\w*\",\n",
        "             \"environmental change\\w*\",\"environmental impact\", \"global climate\", \"global warming\",\n",
        "             \"greenhouse effect\\w*\",\"green-house effect\\w*\", \"greenhouse gas\\w*\", \"green-house gas\\w*\",\n",
        "             \"UNFCC\", \"United Nations Framework Convention for Climate Change\"]\n",
        "  for s in singles:\n",
        "    if (re.search(s, str, re.IGNORECASE) != None):\n",
        "      return True\n",
        "\n",
        "  # Step 2: \"climate\" + nearby terms\n",
        "  pair_term_1 = \"climat\\w*\"\n",
        "  pair_terms_2 = [\"(polic\\w*|strateg\\w*|plan|plans|planning)\",\n",
        "                  \"(information|awareness|educat\\w*|teach\\w*|learn\\w*)\",\n",
        "                  \"(fund|funds|funding|money|dollar\\w*|commitment|capitali\\w*)\",\n",
        "                  \"anthropogenic\\w*\", \"action\\w*\", \"adapt\\w*\", \"biodiversity\",\n",
        "                  \"carbon\\w*\", \"change\\w*\", \"crisis\", \"deforestati\\w*\", \"desertificati\\w*\",\n",
        "                  \"ecolog\\w*\", \"environment\\w*\", \"GHG\", \"global change\", \"greenhouse gas\\w*\",\n",
        "                  \"hazard\\w*\", \"reforestati\\w*\", \"variabilit\\w*\", \"warming\", \"water stress\"]\n",
        "\n",
        "  for t in pair_terms_2:\n",
        "    if (near(str, pair_term_1, t, 3)):\n",
        "      return True\n",
        "\n",
        "  # Step 3: nearby terms (other than \"climate\")\n",
        "  if (near(str,\"reduc\\w*\",\"disaster\\w*\",3) & near(str,\"disaster\\w*\",\"risk\\w*\",3)):\n",
        "      return True\n",
        "  if (near(str,\"resilien\\w*\",\"(climat\\w*|natural disaster\\w*)\",3)):\n",
        "      return True\n",
        "\n",
        "  # Step 4: AND statements\n",
        "  if (near(str,\"Paris\",\"(agreement|COP21)\",3) & (re.search(\"climate\",str,re.IGNORECASE) != None)):\n",
        "      return True\n",
        "  if (near(str,\"Kyoto\",\"protocol\",3) & (re.search(\"climate\",str,re.IGNORECASE) != None)):\n",
        "      return True\n",
        "\n",
        "  if ((re.search(\"sea level\\w*\",str,re.IGNORECASE) != None) & ((re.search(\"chang\\w*\",str,re.IGNORECASE) != None) | (re.search(\"rising\",str,re.IGNORECASE) != None))):\n",
        "      return True\n",
        "\n",
        "  # Step 5: More complex statements\n",
        "  if (near(str,\"disaster\\w*\",\"(missing person\\w*|human loss\\w*)\",3) | (near(str,\"disaster\\w*\",\"number\",3) & (near(str,\"number\",\"(death\\w*|people)\",3)))):\n",
        "      return True\n",
        "\n",
        "  if ((re.search(\"climate\",str,re.IGNORECASE) != None) & near(str,\"(assist\\w*|support\\w*|aid|program\\w*|development\\w*|capacity\\w*)\",\"(develop\\w* countr\\w*|least developed countr\\w*|small island\\w*)\",3)):\n",
        "      return True\n",
        "\n",
        "  return False\n",
        "\n"
      ],
      "execution_count": 3,
      "outputs": []
    },
    {
      "cell_type": "code",
      "metadata": {
        "id": "Hq36Sep-Yxc7"
      },
      "source": [
        "# Read in dataset\n",
        "df = pd.read_csv('uk_gtr_2015_2019.csv', dtype=str)\n",
        "\n",
        "# Shuffle dataset\n",
        "df = df.sample(frac=1).reset_index(drop=True)\n",
        "\n",
        "# Apply search queries\n",
        "selected = df[df['abstract'].apply(apply_queries) == True]\n",
        "selected.to_csv('selected_projects.csv')\n",
        "\n",
        "not_selected = df[df['abstract'].apply(apply_queries) == False]\n",
        "not_selected.to_csv('not_selected_projects.csv')\n"
      ],
      "execution_count": 6,
      "outputs": []
    }
  ]
}